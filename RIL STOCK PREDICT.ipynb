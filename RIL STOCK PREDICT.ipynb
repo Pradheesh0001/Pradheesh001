{
 "cells": [
  {
   "cell_type": "code",
   "execution_count": 2,
   "id": "cf7d241e-9c11-44e4-9e9f-2408336bdc0d",
   "metadata": {},
   "outputs": [
    {
     "name": "stderr",
     "output_type": "stream",
     "text": [
      "[*********************100%***********************]  1 of 1 completed"
     ]
    },
    {
     "name": "stdout",
     "output_type": "stream",
     "text": [
      "Price    High_lag_1 Low_lag_1  Close_lag_1   High_lag_2 Low_lag_2  \\\n",
      "Ticker                                                              \n",
      "4       1605.849976  1585.500  1597.224976  1605.150024    1574.5   \n",
      "5       1600.000000  1569.125  1576.250000  1605.849976    1585.5   \n",
      "\n",
      "Price   Close_lag_2   High_lag_3 Low_lag_3  Close_lag_3 High_lag_4  \\\n",
      "Ticker                                                               \n",
      "4       1596.724976  1604.250000    1570.5  1580.650024    1597.50   \n",
      "5       1597.224976  1605.150024    1574.5  1596.724976    1604.25   \n",
      "\n",
      "Price     Low_lag_4  Close_lag_4  \n",
      "Ticker                            \n",
      "4       1563.150024  1584.224976  \n",
      "5       1570.500000  1580.650024  \n",
      "Price          High          Low        Close\n",
      "Ticker  RELIANCE.NS  RELIANCE.NS  RELIANCE.NS\n",
      "4       1600.000000  1569.125000  1576.250000\n",
      "5       1593.900024  1557.824951  1586.675049\n"
     ]
    },
    {
     "name": "stderr",
     "output_type": "stream",
     "text": [
      "\n",
      "C:\\Users\\Auditics Lap-\\AppData\\Local\\Temp\\ipykernel_6544\\3696394218.py:19: PerformanceWarning: dropping on a non-lexsorted multi-index without a level parameter may impact performance.\n",
      "  x = data.drop(columns =['Date','High','Low','Close'])\n"
     ]
    }
   ],
   "source": [
    "import pandas as pd\n",
    "import numpy as np\n",
    "import yfinance as yf\n",
    "from sklearn.ensemble import RandomForestRegressor\n",
    "from sklearn.model_selection import train_test_split\n",
    "from sklearn import metrics\n",
    "from sklearn.metrics import mean_absolute_error,mean_squared_error,r2_score\n",
    "\n",
    "data = yf.download('RELIANCE.NS',start = \"2024-07-10\",end = \"2024-11-25\")[['High','Low','Close']]\n",
    "data = data.reset_index()\n",
    "for i in range(1,5):\n",
    "\n",
    "    data[f'High_lag_{i}'] = data['High'].shift(i)\n",
    "    data[f'Low_lag_{i}'] = data['Low'].shift(i)\n",
    "    data[f'Close_lag_{i}'] = data['Close'].shift(i)\n",
    "data = data.dropna()\n",
    "\n",
    "\n",
    "x = data.drop(columns =['Date','High','Low','Close'])\n",
    "y = data[['High','Low','Close']]\n",
    "\n",
    "print (x.head(2))\n",
    "print (y.head(2))\n",
    "\n"
   ]
  },
  {
   "cell_type": "code",
   "execution_count": 4,
   "id": "3d57401a-80f5-4205-a1fa-de7cdc681d89",
   "metadata": {},
   "outputs": [
    {
     "name": "stdout",
     "output_type": "stream",
     "text": [
      "mae : 13.524323165328411\n",
      "mse :  392.68965712381413\n",
      "R2 Score :  0.9407538993386121\n"
     ]
    }
   ],
   "source": [
    "x_train,x_test,y_train,y_test = train_test_split(x,y,test_size = 0.2)\n",
    "model = RandomForestRegressor()\n",
    "model.fit(x_train,y_train)\n",
    "y_pred = model.predict(x_test)\n",
    "\n",
    "mae = mean_absolute_error(y_test,y_pred)\n",
    "mse = mean_squared_error(y_test,y_pred)\n",
    "r2 = r2_score(y_test,y_pred)\n",
    "\n",
    "print (\"mae :\", mae)\n",
    "print (\"mse : \", mse)\n",
    "print(\"R2 Score : \",r2)"
   ]
  },
  {
   "cell_type": "code",
   "execution_count": 8,
   "id": "8dacf63d-50de-476b-abfe-516e9e8c5c3f",
   "metadata": {},
   "outputs": [
    {
     "data": {
      "text/plain": [
       "array([[1265.83147583, 1227.79347046, 1257.87251221]])"
      ]
     },
     "execution_count": 8,
     "metadata": {},
     "output_type": "execute_result"
    }
   ],
   "source": [
    "latest_data = data.iloc[-1]\n",
    "x_pred = latest_data[['High_lag_1','Low_lag_1','Close_lag_1','High_lag_2','Low_lag_2','Close_lag_2','High_lag_3','Low_lag_3','Close_lag_3','High_lag_4','Low_lag_4','Close_lag_4']].values.reshape(1,-1)\n",
    "\n",
    "predicted_data = model.predict(x_pred)\n",
    "predicted_data"
   ]
  },
  {
   "cell_type": "code",
   "execution_count": 164,
   "id": "c533e39d-7f5a-43d2-928b-09e431076827",
   "metadata": {},
   "outputs": [
    {
     "name": "stdout",
     "output_type": "stream",
     "text": [
      "Dataset saved to RIL_stock_data_with_lags.csv\n"
     ]
    }
   ],
   "source": [
    "data.to_csv(r'C:\\Users\\Auditics Lap-\\Downloads\\RIL_stock_data_with_lags.csv', index=False)\n",
    "print(\"Dataset saved to RIL_stock_data_with_lags.csv\")"
   ]
  },
  {
   "cell_type": "code",
   "execution_count": 12,
   "id": "6d2f1663-ad88-436c-8f17-09298c31c7ba",
   "metadata": {},
   "outputs": [
    {
     "name": "stdout",
     "output_type": "stream",
     "text": [
      "Tommorow Safe trade value Between High & Low Price is : 1250.4991528320313\n"
     ]
    }
   ],
   "source": [
    "avarage_value = np.mean(predicted_data)\n",
    "print(\"Tommorow Safe trade value Between High & Low Price is :\", avarage_value)"
   ]
  },
  {
   "cell_type": "code",
   "execution_count": null,
   "id": "c49c50ec-787c-46f4-8819-b1b1cc50d80f",
   "metadata": {},
   "outputs": [],
   "source": []
  },
  {
   "cell_type": "code",
   "execution_count": null,
   "id": "ef68a6db-e63a-4d91-aafb-b8e98b6b0c72",
   "metadata": {},
   "outputs": [],
   "source": []
  }
 ],
 "metadata": {
  "kernelspec": {
   "display_name": "Python 3 (ipykernel)",
   "language": "python",
   "name": "python3"
  },
  "language_info": {
   "codemirror_mode": {
    "name": "ipython",
    "version": 3
   },
   "file_extension": ".py",
   "mimetype": "text/x-python",
   "name": "python",
   "nbconvert_exporter": "python",
   "pygments_lexer": "ipython3",
   "version": "3.12.4"
  }
 },
 "nbformat": 4,
 "nbformat_minor": 5
}
